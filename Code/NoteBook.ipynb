{
 "cells": [
  {
   "cell_type": "markdown",
   "metadata": {},
   "source": [
    "<h1 align=center style=\"line-height:200%;font-family:vazir;color:#0099cc\">\n",
    "<font face=\"vazir\" color=\"#0099cc\">\n",
    "واترمارک\n",
    "</font>\n",
    "</h1>"
   ]
  },
  {
   "cell_type": "markdown",
   "metadata": {},
   "source": [
    "<p dir=rtl style=\"direction: rtl;text-align: justify;line-height:200%;font-family:vazir;font-size:medium\">\n",
    "<font face=\"vazir\" size=3>\n",
    "واترمارک حاوی متن با لوگویی است که بر روی تصاویر قرار می گیرد. این کار، یک رویه رایج در بین عکاسان، فیلمبرداران و برندها برای محافظت از محتوای خود در برابر سرقت دیگران است. در این تمرین سعی خواهیم کرد با توجه به موضوعاتی که تا به الان ارائه شد، سعی کنیم واترمارک روی یک تصویر را از بین ببریم.\n",
    "\n",
    "نکته: از لحاظ منطقی روالی که در این مسئله طی می کنیم خیلی درست نیست چون در دنیای واقعی ما معمولا فقط تصویر واترمارک شده را در اختیار داریم و سعی میکنیم به تصویر اصلی برسیم. اما در این مسئله هم تصویر اصلی و هم تصویر واترمارک شده در اختیار ماست. هدف این تمرین صرفا کار عملی با عملیات پایه روی تصویر است که در این فصل یاد گرفتید و صرفا این مثال بهانه ای برای دست به کد شدن و انجام عملیات پایه مختلف روی تصویر است.\n",
    "</font>\n",
    "</p>"
   ]
  },
  {
   "cell_type": "markdown",
   "metadata": {},
   "source": [
    "---\n",
    "\n",
    "<h2 align=right style=\"line-height:200%;font-family:vazir;color:#0099cc\">\n",
    "<font face=\"vazir\" color=\"#0099cc\">\n",
    "وارد کردن کتابخانه‌های مورد نیاز\n",
    "</font>\n",
    "</h2>\n",
    "\n",
    "<p dir=rtl style=\"direction: rtl;text-align: justify;line-height:200%;font-family:vazir;font-size:medium\">\n",
    "<font face=\"vazir\" size=3>\n",
    "در این بخش کتابخانه‌های مورد نیاز برای انجام تمرین را وارد می‌کنیم.\n",
    "</font>\n",
    "</p>"
   ]
  },
  {
   "cell_type": "code",
   "metadata": {
    "ExecuteTime": {
     "end_time": "2025-06-21T22:52:48.835217Z",
     "start_time": "2025-06-21T22:52:48.204503Z"
    }
   },
   "source": [
    "import numpy as np\n",
    "import matplotlib.pyplot as plt\n",
    "import cv2"
   ],
   "outputs": [],
   "execution_count": 1
  },
  {
   "cell_type": "markdown",
   "metadata": {},
   "source": [
    "<h2 align=right style=\"line-height:200%;font-family:vazir;color:#0099cc\">\n",
    "<font face=\"vazir\" color=\"#0099cc\">\n",
    "بارگذاری تصاویر\n",
    "</font>\n",
    "</h2>\n",
    "<p dir=rtl style=\"direction: rtl;text-align: justify;line-height:200%;font-family:vazir;font-size:medium\">\n",
    "<font face=\"vazir\" size=3>\n",
    "لطفا تصاویر که در ابتدا در اختیار شما قرار گرفته است را بصورت رنگی بارگذاری کرده و سپس به کمک <code>matplotlib</code> آنها را رسم کنید.\n",
    "</font>\n",
    "</p>"
   ]
  },
  {
   "cell_type": "code",
   "execution_count": null,
   "metadata": {},
   "outputs": [],
   "source": [
    "# Load the original image\n",
    "original = ...\n",
    "# Load the watermarked image\n",
    "watermarked = ...\n",
    "\n",
    "# Show two loaded image in a row in one figure\n",
    "plt.figure(figsize=(10, 5))\n",
    ".\n",
    ".\n",
    ".\n",
    ".\n",
    "plt.show()"
   ]
  },
  {
   "cell_type": "markdown",
   "metadata": {},
   "source": [
    "<h2 align=right style=\"line-height:200%;font-family:vazir;color:#0099cc\">\n",
    "<font face=\"vazir\" color=\"#0099cc\">\n",
    "محاسبه تفاوت دو تصویر\n",
    "</font>\n",
    "</h2>\n",
    "<p dir=rtl style=\"direction: rtl;text-align: justify;line-height:200%;font-family:vazir;font-size:medium\">\n",
    "<font face=\"vazir\" size=3>\n",
    "برای پیدا کردن واترمارک ها کافی است تفاوت دو تصویر واترمارک شده و تصویر اصلی محاسبه شود. سپس تصویر تفاصل را رسم کنید.\n",
    "</font>\n",
    "</p>"
   ]
  },
  {
   "cell_type": "code",
   "execution_count": null,
   "metadata": {},
   "outputs": [],
   "source": [
    "diff = ...\n",
    "\n",
    "plt.imshow(cv2.cvtColor(diff,cv2.COLOR_BGR2RGB))\n",
    "plt.axis('off')\n",
    "plt.show()"
   ]
  },
  {
   "cell_type": "markdown",
   "metadata": {},
   "source": [
    "<p dir=rtl style=\"direction: rtl;text-align: justify;line-height:200%;font-family:vazir;font-size:medium\">\n",
    "<font face=\"vazir\" size=3>\n",
    "حال تصویر واترمارک ها باید باینری شود برای اینکار ابتدا لازم است تصویر را به سطح خاکستری تبدیل کنیم.\n",
    "</font>\n",
    "</p>"
   ]
  },
  {
   "cell_type": "code",
   "execution_count": null,
   "metadata": {},
   "outputs": [],
   "source": [
    "# تبدیل اختلاف به مقیاس خاکستری\n",
    "gray_diff = ...\n",
    "\n",
    "plt.imshow(gray_diff,cmap='gray')\n",
    "plt.axis('off')\n",
    "plt.show()"
   ]
  },
  {
   "cell_type": "markdown",
   "metadata": {},
   "source": [
    "<h2 align=right style=\"line-height:200%;font-family:vazir;color:#0099cc\">\n",
    "<font face=\"vazir\" color=\"#0099cc\">\n",
    "باینری سازی تصویر\n",
    "</font>\n",
    "</h2>\n",
    "<p dir=rtl style=\"direction: rtl;text-align: justify;line-height:200%;font-family:vazir;font-size:medium\">\n",
    "<font face=\"vazir\" size=3>\n",
    "تصویر باینری تصویری بود که تنها از دو مقدار سیاه خالص و سفید خالص تشکیل شده بود. برای تبدیل تصویر سطح خاکستری به تصویر باینری تکنیک های متفاوتی وجود دارد. ساده ترین تکنیک عمل <code>thresholding</code> است که مثلا ما اعلام کنیم پیکسل هایی با شدت روشنایی پایین تر از 128، سیاه و بالاتر از 128 سفید شوند. اما تکنیک های پیشرفته تر مبتنی بر آمار مثل روش <code>Utso</code> نیز وجود دارند. برای این سلول هدف تبدیل تصویر سطح خاکستری بالا به باینری است. با روش ساده می توانید اعلام کنید پیکسل های زیر 10 سیاه و بالا تر از 10 سفید شوند. اگر مایل بودید در سلول بعدی میتوانید به کمک روش آتسو عمل باینری سازی تصویر را انجام بدهید.\n",
    "</font>\n",
    "</p>"
   ]
  },
  {
   "cell_type": "code",
   "execution_count": null,
   "metadata": {},
   "outputs": [],
   "source": [
    "_, watermark_mask = ...\n",
    "\n",
    "plt.imshow(watermark_mask,cmap='gray')\n",
    "plt.axis('off')\n",
    "plt.show()"
   ]
  },
  {
   "cell_type": "markdown",
   "metadata": {},
   "source": [
    "<h2 align=right style=\"line-height:200%;font-family:vazir;color:#0099cc\">\n",
    "<font face=\"vazir\" color=\"#0099cc\">\n",
    "ساخت تصویر 3 کاناله\n",
    "</font>\n",
    "</h2>\n",
    "<p dir=rtl style=\"direction: rtl;text-align: justify;line-height:200%;font-family:vazir;font-size:medium\">\n",
    "<font face=\"vazir\" size=3>\n",
    "تصویر باینری که در مرحله قبل بدست آوردیم یک تصویر تک کاناله است. در سلول زیر این تصویر را به یک تصویر سه کاناله یا رنگی تبدیل کنید. یعنی هر سه کانال R, G و B  باید <code>watermark_mask</code> باشند.\n",
    "</font>\n",
    "</p>"
   ]
  },
  {
   "cell_type": "code",
   "execution_count": null,
   "metadata": {},
   "outputs": [],
   "source": [
    "watermark_mask_3ch = ...\n",
    "\n",
    "plt.imshow(cv2.cvtColor(watermark_mask_3ch,cv2.COLOR_BGR2RGB))\n",
    "plt.axis('off')\n",
    "plt.show()"
   ]
  },
  {
   "cell_type": "markdown",
   "metadata": {},
   "source": [
    "\n",
    "<p dir=rtl style=\"direction: rtl;text-align: justify;line-height:200%;font-family:vazir;font-size:medium\">\n",
    "<font face=\"vazir\" size=3>\n",
    "مشاهده میشود که تصویر واترمارک اولیه رنگی را به یک تصویر واترمارک سه کاناله تبدیل کردیم که خود واترمارک ها، سفید خالص اند. چرا در مرحله قبل به تصویر سه کاناله تبدیل کردیم؟ برای انجام عملیات منطقی که در سلول های بعد انجام خواهیم داد.\n",
    "</font>\n",
    "</p>"
   ]
  },
  {
   "cell_type": "markdown",
   "metadata": {},
   "source": [
    "\n",
    "<p dir=rtl style=\"direction: rtl;text-align: justify;line-height:200%;font-family:vazir;font-size:medium\">\n",
    "<font face=\"vazir\" size=3>\n",
    "ماسک بدست آمده در تصویر قبل را معکوس کنید. یعنی تمام تصویر سفید بجز خود واترمارک که سیاه میشوند.\n",
    "</font>\n",
    "</p>"
   ]
  },
  {
   "cell_type": "code",
   "execution_count": null,
   "metadata": {},
   "outputs": [],
   "source": [
    "watermark_mask_inv = ...\n",
    "\n",
    "plt.imshow(cv2.cvtColor(watermark_mask_inv,cv2.COLOR_BGR2RGB))\n",
    "plt.axis('off')\n",
    "plt.show()"
   ]
  },
  {
   "cell_type": "markdown",
   "metadata": {},
   "source": [
    "\n",
    "<p dir=rtl style=\"direction: rtl;text-align: justify;line-height:200%;font-family:vazir;font-size:medium\">\n",
    "<font face=\"vazir\" size=3>\n",
    "بین دو تصویر واترمارک اولیه و ماسک معکوس که از مرحله قبل بدست آمد عملیات And انجام دهید و حاصل را در متغیر <code>result</code> نگه داری کنید. عمل and چه عملیاتی روی دو تصویر انجام داده است و حاصل نشان دهنده چیست؟\n",
    "</font>\n",
    "</p>"
   ]
  },
  {
   "cell_type": "code",
   "execution_count": null,
   "metadata": {},
   "outputs": [],
   "source": [
    "# And operation between watermarked and watermark_mask_inv\n",
    "result = ...\n",
    "\n",
    "plt.imshow(cv2.cvtColor(result,cv2.COLOR_BGR2RGB))\n",
    "plt.axis('off')\n",
    "plt.show()"
   ]
  },
  {
   "cell_type": "code",
   "execution_count": null,
   "metadata": {},
   "outputs": [],
   "source": [
    "# And operation between original and watermark_mask_3ch\n",
    "original_part = ...\n",
    "\n",
    "plt.imshow(cv2.cvtColor(original_part,cv2.COLOR_BGR2RGB))\n",
    "plt.axis('off')\n",
    "plt.show()"
   ]
  },
  {
   "cell_type": "markdown",
   "metadata": {},
   "source": [
    "\n",
    "<p dir=rtl style=\"direction: rtl;text-align: justify;line-height:200%;font-family:vazir;font-size:medium\">\n",
    "<font face=\"vazir\" size=3>\n",
    "حال دو تصویر بدست آمده از دو سلول قبل یعنی متغیر های <code>result</code> و <code>original_part</code> را با هم جمع کنید. و حاصل را نمایش دهید.\n",
    "</font>\n",
    "</p>"
   ]
  },
  {
   "cell_type": "code",
   "execution_count": null,
   "metadata": {},
   "outputs": [],
   "source": [
    "final_image = ...\n",
    "\n",
    "plt.imshow(cv2.cvtColor(final_image,cv2.COLOR_BGR2RGB))\n",
    "plt.axis('off')\n",
    "plt.show()"
   ]
  },
  {
   "cell_type": "markdown",
   "metadata": {},
   "source": [
    "\n",
    "<p dir=rtl style=\"direction: rtl;text-align: justify;line-height:200%;font-family:vazir;font-size:medium\">\n",
    "<font face=\"vazir\" size=3>\n",
    "با کمی چشم پوشی میتوان گفت که ما به تصویر اصلی خودمان رسیده ایم. علت اینکه هنوز ردپایی از واترمارک روی تصویر باقی مانده است، رنگ قسمت هایی از تصویر است که باعث شده قسمت واترمارک به خوبی شناسایی نشود. البته در مراحل قبل تر میتوانستیم با عملیاتی مثل مورفولوژی یا inpating قسمت واترمارک را تقویت کنیم تا تصویر نهایی تمیز تری داشته باشیم اما هدف از این تمرین صرفا کار عملی با عملیات پایه ای است که در این فصل فرا گرفتیم.\n",
    "نکته: برای گرفتن نتیجه بهتر، بهتر است تمامی عملیات پایه مثل جمع، تفریق و... را با استفاده از کتابخانه opencv انجام دهید.\n",
    "</font>\n",
    "</p>"
   ]
  },
  {
   "cell_type": "markdown",
   "metadata": {},
   "source": [
    "<div dir=\"rtl\">\n",
    "<h2 align=right style=\"line-height:200%;font-family:vazir;color:#0099cc\">\n",
    "<font face=\"vazir\" color=\"#0099cc\">\n",
    "<b>سلول جواب‌ساز</b>\n",
    "</font>\n",
    "</h2>\n",
    "</div>\n",
    "<p dir=rtl style=\"direction: rtl; text-align: justify; line-height:200%; font-family:vazir; font-size:medium\">\n",
    "<font face=\"vazir\" size=3>\n",
    "    برای ساخته‌شدن فایل <code>result.zip</code> سلول زیر را اجرا کنید. توجه داشته باشید که پیش از اجرای سلول زیر تغییرات اعمال شده در نت‌بوک را ذخیره کرده باشید (<code>ctrl+s</code>) تا در صورت نیاز به پشتیبانی امکان بررسی کد شما وجود داشته باشد.\n",
    "</font>\n",
    "</p>"
   ]
  },
  {
   "cell_type": "code",
   "execution_count": null,
   "metadata": {},
   "outputs": [],
   "source": [
    "import zipfile\n",
    "import joblib\n",
    "\n",
    "def compress(file_names):\n",
    "    print(\"File Paths:\")\n",
    "    print(file_names)\n",
    "    compression = zipfile.ZIP_DEFLATED\n",
    "    with zipfile.ZipFile(\"result.zip\", mode=\"w\") as zf:\n",
    "        for file_name in file_names:\n",
    "            zf.write('./' + file_name, file_name, compress_type=compression)\n",
    "            \n",
    "\n",
    "cv2.imwrite('final_image.png', final_image)\n",
    "file_names = [ 'final_image.png', 'NoteBook.ipynb']\n",
    "compress(file_names)"
   ]
  },
  {
   "cell_type": "markdown",
   "metadata": {},
   "source": []
  }
 ],
 "metadata": {
  "kernelspec": {
   "display_name": "Python 3",
   "language": "python",
   "name": "python3"
  },
  "language_info": {
   "codemirror_mode": {
    "name": "ipython",
    "version": 3
   },
   "file_extension": ".py",
   "mimetype": "text/x-python",
   "name": "python",
   "nbconvert_exporter": "python",
   "pygments_lexer": "ipython3",
   "version": "3.11.8"
  }
 },
 "nbformat": 4,
 "nbformat_minor": 2
}
